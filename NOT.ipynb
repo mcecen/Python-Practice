{
 "cells": [
  {
   "cell_type": "code",
   "id": "initial_id",
   "metadata": {
    "collapsed": true
   },
   "source": "# --> PYTHON DERS NOTLARI <--",
   "outputs": [],
   "execution_count": null
  },
  {
   "metadata": {},
   "cell_type": "code",
   "source": "#TARİHÇE",
   "id": "4703169dc7f444d4",
   "outputs": [],
   "execution_count": null
  },
  {
   "metadata": {},
   "cell_type": "code",
   "source": [
    "\"\"\"\n",
    "Python programlama dili Guido Van Rossum adlı Hollandalı bir programcı tarafından 90’lı yılların başında geliştirilmeye başlanmıştır. Guido Van Rossum bu programlama dilini, The Monty Python adlı bir İngiliz komedi grubunun, Monty Python’s Flying Circus adlı gösterisinden esinlenerek adlandırmıştır.\n",
    "\"\"\""
   ],
   "id": "222a66e7321909be",
   "outputs": [],
   "execution_count": null
  },
  {
   "metadata": {},
   "cell_type": "code",
   "source": "#NEDEN PYTHON",
   "id": "d22d740c7834de11",
   "outputs": [],
   "execution_count": null
  },
  {
   "metadata": {},
   "cell_type": "code",
   "source": [
    "\"\"\"\n",
    "Python programlarının en büyük özelliklerinden birisi, derlenmeye gerek olmadan çalıştırılabilmeleridir. Python’da derleme işlemi ortadan kaldırıldığı için, bu dille oldukça hızlı bir şekilde program geliştirilebilir. Ayrıca Python programlama dilinin basit ve temiz söz dizimine sahiptir. Bundan dolayı Python’da hem program yazmak, hem de başkası tarafından yazılmış bir programı okumak, başka dillere kıyasla çok kolaydır.\n",
    "\"\"\""
   ],
   "id": "4f42855b6e81d0c8",
   "outputs": [],
   "execution_count": null
  },
  {
   "metadata": {},
   "cell_type": "code",
   "source": "#ETKİLEŞİMLİ KABUK(INTERACTIVE SHELL)",
   "id": "e255f7fbedecff76",
   "outputs": [],
   "execution_count": null
  },
  {
   "metadata": {},
   "cell_type": "code",
   "source": [
    "\"\"\"\n",
    "Etkileşimli kabuk, Python programlama dili ile ilişki kurmaya yarayan, yani onunla etkileşim sağlanan bir üst katmandır. Etkileşimli kabuk bir veya birkaç satırlık kodları denemek/test etmek için gayet uygun bir araçtır.\n",
    "\n",
    "Örnekler:\n",
    "\n",
    ">>> \"Merhaba Dünya!\"\n",
    "'Merhaba Dünya!'\n",
    "\n",
    ">>> \"Mustafa\" + \"ÇEÇEN\"\n",
    "'MustafaÇEÇEN'\n",
    "\n",
    ">>> \"w\" * 3\n",
    "'www'\n",
    "\n",
    ">>> 5 + 2\n",
    "7\n",
    "\n",
    ">>> 25 * 25\n",
    "625\n",
    "\n",
    "\"\"\""
   ],
   "id": "c386cc8f8ffd295",
   "outputs": [],
   "execution_count": null
  },
  {
   "metadata": {},
   "cell_type": "code",
   "source": "#DEĞİŞKENLER(VARIABLES)",
   "id": "61caef8c31896ae7",
   "outputs": [],
   "execution_count": null
  },
  {
   "metadata": {},
   "cell_type": "code",
   "source": [
    "\"\"\"\n",
    "Python’da bir program içinde değerlere verilen isimlere değişken denir.\n",
    "\n",
    ">>> n = 5\n",
    "40 Bölüm 5. Etkileşimli Python\n",
    "Yazbel Python Belgeleri, Yayım 4.1.3\n",
    "Burada 5 sayısını bir değişkene atadık. Değişkenimiz ise n. Ayrıca 5 sayısını bir değişkene\n",
    "atamak için = işaretinden yararlandığımıza da çok dikkat edin. Buradan, = işaretinin Python\n",
    "programlama dilinde değer atama işlemleri için kullanıldığı sonucunu çıkarıyoruz.\n",
    "n = 5 gibi bir komut yardımıyla 5 değerini n adlı değişkene atamamız sayesinde artık ne\n",
    "zaman 5 sayısına ihtiyaç duysak bu n değişkenini çağırmamız yeterli olacaktır:\n",
    ">>> n\n",
    "5\n",
    ">>> n * 10\n",
    "50\n",
    ">>> n / 2\n",
    "2.5\n",
    "\n",
    "\n",
    "Değişken Adı Belirleme Kuralları\n",
    "\n",
    "1. Değişken adları bir sayı ile başlayamaz.\n",
    "\n",
    ">>> 3_kilo_elma = \"5 TL\"\n",
    "\n",
    "2. Değişken adları aritmetik işleçlerle başlayamaz.\n",
    "\n",
    ">>> +değer = 4568\n",
    "\n",
    "3. Değişken adları ya bir alfabe harfiyle ya da _ işaretiyle başlamalıdır:\n",
    "\n",
    ">>> _değer = 4568\n",
    ">>> değer = 4568\n",
    "\n",
    "4. Değişken adları içinde Türkçe karakterler kullanabilirsiniz. Ancak ileride beklenmedik uyum\n",
    "sorunları çıkması ihtimaline karşı değişken adlarında Türkçe karakter kullanmaktan kaçınmak\n",
    "isteyebilirsiniz.\n",
    "\n",
    "5. Aşağıdaki kelimeleri değişken adı olarak kullanamazsınız. Bunlar Python’da özel anlam ifade eden kelimelerdir. Etkileşimli kabuk zaten bu kelimeleri\n",
    "değişken adı olarak kullanmanıza izin vermez.\n",
    "\n",
    "['False', 'None', 'True', 'and', 'as', 'assert', 'async', 'await', 'break',˓→'class', 'continue', 'def', 'del','elif', 'else', 'except', 'finally', 'for',\n",
    "'from', 'global', 'if', 'import',˓→'in', 'is', 'lambda', 'nonlocal','not', 'or', 'pass', 'raise', 'return', 'try', 'while', 'with', 'yield']\n",
    "\n",
    "6. Yukarıdaki kelimeler dışında, Python programlama diline ait fonksiyon ve benzeri araçların adlarını da değişken adı olarak kullanmamalısınız. Örneğin yazdığınız programlarda\n",
    "değişkenlerinize type veya len adı vermeyin. Çünkü ‘type’ ve ‘len’ Python’a ait iki önemli fonksiyonun adıdır.\n",
    "\n",
    ">>> type = 3456\n",
    "Bu örnekte type adında bir değişken tanımladık. Şimdi mesela “elma” kelimesinin tipini denetlemek için type() fonksiyonunu kullanmaya çalışalım:\n",
    "\n",
    ">>> type(\"Mustafa\")\n",
    "\n",
    "Traceback (most recent call last):\n",
    "File \"<stdin>\", line 1, in <module>\n",
    "TypeError: 'int' object is not callable\n",
    "\n",
    "Gördüğünüz gibi, artık type() fonksiyonu çalışmıyor. Çünkü siz ‘type’ kelimesini bir değişken\n",
    "adı olarak kullanarak, type() fonksiyonunu kullanılamaz hale getirdiniz.Bu durumdan kurtulmak için etkileşimli kabuğu kapatıp tekrar açabilirsiniz. Ya da eğer\n",
    "etkileşimli kabuğu kapatmak istemiyorsanız şu komut yardımıyla type değişkenini ortadan kaldırmayı da tercih edebilirsiniz:\n",
    "\n",
    ">>> del type\n",
    "\n",
    "7. Değişken adlarını belirlerken, değişkeni oluşturan kelimeler arasında boşluk bırakılamaz.\n",
    "\n",
    ">>> kullanıcı adı = \"yazbel\"\n",
    "\n",
    "8. Değişken adları belirlerken, değişken adının, değişkenin değerini olabildiğince betimlemesine dikkat etmemiz kodlarımızın okunaklılığını artıracaktır.\n",
    "\n",
    ">>> personel_sayısı = 45\n",
    "\n",
    "Yukarıdaki, tanımladığı değere uygun bir değişken adıdır. Şu ise kurallara uygun bir değişken adı olsa da yeterince betimleyici değildir:\n",
    "\n",
    ">>> sayı = 45\n",
    "\n",
    "9. Değişken adları ne çok kısa, ne de çok uzun olmalıdır. Mesela şu değişken adı, kodları okuyan kişiye, değişken değerinin anlamı konusunda pek fikir vermez:\n",
    "\n",
    ">>> a = 345542353\n",
    "\n",
    "Aynı Değere Sahip Değişkenler Tanımlama\n",
    "\n",
    ">>> a = b = 4\n",
    "\n",
    ">>> a\n",
    "4\n",
    ">>> b\n",
    "4\n",
    "\n",
    "\"\"\""
   ],
   "id": "40054309ff387a12",
   "outputs": [],
   "execution_count": null
  },
  {
   "metadata": {},
   "cell_type": "code",
   "source": [
    "\"\"\"\n",
    "Değişkenlerin Değerini Takas Etme\n",
    "\"\"\""
   ],
   "id": "926f6da39e873770",
   "outputs": [],
   "execution_count": null
  },
  {
   "metadata": {},
   "cell_type": "code",
   "source": [
    "isim = \"Mustafa\"\n",
    "soyisim = \"ÇEÇEN\"\n",
    "\n",
    "isim, soyisim = soyisim, isim\n",
    "\n",
    "isim\n",
    "soyisim"
   ],
   "id": "f30a163f10c6b15",
   "outputs": [],
   "execution_count": null
  },
  {
   "metadata": {},
   "cell_type": "code",
   "source": "#PRINT() FONKSİYONU",
   "id": "ecfb8a3188c30eb1",
   "outputs": [],
   "execution_count": null
  },
  {
   "metadata": {},
   "cell_type": "code",
   "source": [
    "\"\"\"\n",
    "print() fonksiyonunun görevi ekrana çıktı vermeyi sağlamaktır.\n",
    "\"\"\""
   ],
   "id": "38e4ee4abd8455e",
   "outputs": [],
   "execution_count": null
  },
  {
   "metadata": {},
   "cell_type": "code",
   "source": [
    "print(\"Python programlama dili\")\n",
    "print('Mustafa', 'ÇEÇEN')"
   ],
   "id": "e37dfb90940e8667",
   "outputs": [],
   "execution_count": null
  },
  {
   "metadata": {},
   "cell_type": "code",
   "source": [
    "\"\"\"\n",
    "print() Fonksiyonunun Parametreleri\n",
    "\n",
    "--SEP--\n",
    "sep ifadesi, İngilizcede separator (ayırıcı, ayraç) kelimesinin kısaltmasıdır. Dolayısıyla print() fonksiyonundaki bu sep parametresi, ekrana basılacak öğeler arasına hangi karakterin yerleştirileceğini gösterir. Bu parametrenin öntanımlı değeri bir adet boşluk karakteridir(” “).\n",
    "\n",
    ">>> print(\"http://\", \"www.\", \"google.\", \"com\", sep=\" \")\n",
    "\n",
    "--END--\n",
    "end parametresi ise bu parametrelerin sonuna neyin geleceğini belirler. Öntanımlı olarak, parametrelerin sonuna ‘satır başı karakteri’ ekler.\n",
    "\n",
    ">>> print(\"Bugün günlerden Mustafa\", end=\"\\n\")\n",
    "\n",
    "--FİLE--\n",
    "file'ın görevi, print() fonksiyonuna verilen karakter dizisi ve/veya sayıların, yani parametrelerin nereye yazılacağını belirtmektir. Bu parametrenin öntanımlı değeri sys.stdout’tur. sys.stdout,‘standart çıktı konumu’ anlamına gelir.\n",
    "\n",
    ">>> dosya = open(\"deneme.txt\", \"w\")\n",
    ">>> print(\"Ben Python!\", file=dosya)\n",
    ">>> dosya.close()\n",
    "\n",
    "--FLUSH--\n",
    "Python, yazdırmak istenen bilgiyi standart çıktı konumuna gönderir. Ancak Python’da bazı işlemler standart çıktı konumuna gönderilmeden önce bir süre tamponda bekletir ve daha sonra bekleyen bu işlemler topluca standart çıktı konumuna gönderilir. Flush bu boşaltma mekanizmasını kontrol eder. Bu parametrenin öntanımlı değeri False’tur.\n",
    "\n",
    ">>> print(\"Merhaba Dünya!\", file=f, flush=True)\n",
    "\"\"\""
   ],
   "id": "aad489ce59176c54",
   "outputs": [],
   "execution_count": null
  },
  {
   "metadata": {},
   "cell_type": "code",
   "outputs": [],
   "execution_count": null,
   "source": [
    "\"\"\"\n",
    "format() metodu verilen parametreleri {} parantezleri arasına sırası ile yerleştirir.\n",
    "\"\"\""
   ],
   "id": "a539295194ac75ce"
  },
  {
   "metadata": {},
   "cell_type": "code",
   "outputs": [],
   "execution_count": null,
   "source": [
    "ad=\"Mustafa\"\n",
    "soyad=\"CECEN\"\n",
    "print(\"Adınız: {}, Soyadınız: {}\".format(ad, soyad))"
   ],
   "id": "5de9137f07b48feb"
  },
  {
   "metadata": {},
   "cell_type": "code",
   "source": "#KAÇIŞ DİZİLERİ(ESCAPE SEQUENCE) --> En Çok Kullanılanlar",
   "id": "6b147808b3b88510",
   "outputs": [],
   "execution_count": null
  },
  {
   "metadata": {},
   "cell_type": "code",
   "source": [
    "\"\"\"\n",
    "--Ters Taksim (\\)--\n",
    "\n",
    "\\ adlı kaçış dizisi kendisini tırnak işaretlerine siper ederek Python’ın bu tırnağı görmesine mani olur.\n",
    "\"\"\""
   ],
   "id": "3d60eb1b82a46b7f",
   "outputs": [],
   "execution_count": null
  },
  {
   "metadata": {},
   "cell_type": "code",
   "source": "print('Tokat\\'ın günlük hava durumu tahmini')",
   "id": "c2d9da65d07156c1",
   "outputs": [],
   "execution_count": null
  },
  {
   "metadata": {},
   "cell_type": "code",
   "source": [
    "\"\"\"\n",
    "--Satır Başı (\\n)--\n",
    "\\n kaçış dizisi, bir alt satıra geçilmesini sağlar.\n",
    "\"\"\""
   ],
   "id": "3082e548ae819d27",
   "outputs": [],
   "execution_count": null
  },
  {
   "metadata": {},
   "cell_type": "code",
   "source": "print(\"birinci satır\\nikinci satır\\nüçüncü satır\")",
   "id": "a417e9fa61bf76c7",
   "outputs": [],
   "execution_count": null
  },
  {
   "metadata": {},
   "cell_type": "code",
   "source": [
    "\"\"\"\n",
    "--Sekme (\\t)--\n",
    "\\t kaçış dizisi, Tab (sekme) tuşuna basılmış gibi bir etki oluşturur.\n",
    "\"\"\""
   ],
   "id": "7e69c8097f71317a",
   "outputs": [],
   "execution_count": null
  },
  {
   "metadata": {},
   "cell_type": "code",
   "source": "print(\"bir\", \"iki\", \"üç\", sep=\"\\t\")",
   "id": "3051b880fb71fe12",
   "outputs": [],
   "execution_count": null
  },
  {
   "metadata": {},
   "cell_type": "code",
   "source": "#KULLANICIDAN BİLGİ ALMAK --> ınput()",
   "id": "b64a9e2c92cb769",
   "outputs": [],
   "execution_count": null
  },
  {
   "metadata": {},
   "cell_type": "code",
   "source": [
    "\"\"\"\n",
    "input() fonksiyonu kullanıcıda bilgi almak için kullanılır. Fonksiyon kullanıcıdan bilgileri string türünde alır. Bundan dolayı matematiksel işlemler gibi durumlarda\n",
    "tip dönüşümü yapılması gerekir.\n",
    "\n",
    "\"\"\""
   ],
   "id": "d45005a437c81ce0",
   "outputs": [],
   "execution_count": null
  },
  {
   "metadata": {},
   "cell_type": "code",
   "source": [
    "isim = input(\"İsim? \")\n",
    "print(\"Merhaba, isminiz: \", isim)\n",
    "\n",
    "yas = input(\"Yaşınız: \")\n",
    "print(\"Yaşınız: \", yas)"
   ],
   "id": "a7eefeccf1ac0e27",
   "outputs": [],
   "execution_count": null
  },
  {
   "metadata": {},
   "cell_type": "code",
   "outputs": [],
   "execution_count": null,
   "source": "#TİP DÖNÜŞÜMLERİ(TYPE CASTING)",
   "id": "7e11fb1b1c07658f"
  },
  {
   "metadata": {},
   "cell_type": "code",
   "outputs": [],
   "execution_count": null,
   "source": [
    "\"\"\"\n",
    "int() --> Veriyi tamsayıya çevirir.\n",
    "str() --> Veriyi string'e çevirir.\n",
    "float() --> Veriyi noktalı sayıya çevirir.\n",
    "complex() --> Veriyi karmaşık sayıya çevirir.\n",
    "\"\"\""
   ],
   "id": "845e463dafe3a8b6"
  },
  {
   "metadata": {},
   "cell_type": "code",
   "outputs": [],
   "execution_count": null,
   "source": [
    "sayi = input(\"Lütfen bir sayı girin: \")\n",
    "int_donusum = int(sayi)\n",
    "print(\"Girilen sayının karesi: \", int_donusum ** 2)\n",
    "#Pratik kullanım örneği --> int(input())"
   ],
   "id": "fdf5877b055c12ac"
  },
  {
   "metadata": {},
   "cell_type": "code",
   "outputs": [],
   "execution_count": null,
   "source": [
    "sayi2 = 10\n",
    "str_donusum = str(sayi2)\n",
    "print(str_donusum)"
   ],
   "id": "5db75fb21c02fe65"
  },
  {
   "metadata": {},
   "cell_type": "code",
   "outputs": [],
   "execution_count": null,
   "source": [
    "a = 30\n",
    "float(a)\n",
    "print(a)"
   ],
   "id": "41d8ec4b26a01dbb"
  },
  {
   "metadata": {},
   "cell_type": "code",
   "outputs": [],
   "execution_count": null,
   "source": [
    "b=15\n",
    "complex(b)\n",
    "print(b)"
   ],
   "id": "d1cd2c1bb00f5660"
  },
  {
   "metadata": {},
   "cell_type": "code",
   "outputs": [],
   "execution_count": null,
   "source": "#KOŞULLU İFADELER",
   "id": "7b48171fa6438bdc"
  },
  {
   "metadata": {},
   "cell_type": "code",
   "outputs": [],
   "execution_count": null,
   "source": [
    "\"\"\"\n",
    "-->Koşullu ifadeler veriler ve durumlar arasında karşılaştırma yaparak istenen sonucu veya mesajı döner. Koşullu durumlar için kullanılan anahtar kelimeler:\n",
    "\n",
    "if\n",
    "elif\n",
    "else\n",
    "\n",
    "-->Karşılaştırma için kullanılan işleçler:\n",
    "\n",
    "> büyüktür\n",
    "< küçüktür\n",
    ">= büyük eşittir\n",
    "<= küçük eşittir\n",
    "== eşittir\n",
    "!= eşit değildir\n",
    "\n",
    "\"\"\""
   ],
   "id": "743f33adacb0c130"
  },
  {
   "metadata": {},
   "cell_type": "code",
   "outputs": [],
   "execution_count": null,
   "source": [
    "x=15\n",
    "if x>5:\n",
    "    print(\"x 5'ten büyüktür\")"
   ],
   "id": "fddf60a2c5270337"
  },
  {
   "metadata": {},
   "cell_type": "code",
   "outputs": [],
   "execution_count": null,
   "source": [
    "boy = int(input(\"boyunuz nedir(cm)?\"))\n",
    "if boy < 170:\n",
    "    print(\"boyunuz kısa\")\n",
    "elif boy < 180:\n",
    "    print(\"boyunuz normal\")\n",
    "else:\n",
    "    print(\"boyunuz uzun\")"
   ],
   "id": "bce4872d41951231"
  }
 ],
 "metadata": {
  "kernelspec": {
   "display_name": "Python 3",
   "language": "python",
   "name": "python3"
  },
  "language_info": {
   "codemirror_mode": {
    "name": "ipython",
    "version": 2
   },
   "file_extension": ".py",
   "mimetype": "text/x-python",
   "name": "python",
   "nbconvert_exporter": "python",
   "pygments_lexer": "ipython2",
   "version": "2.7.6"
  }
 },
 "nbformat": 4,
 "nbformat_minor": 5
}
