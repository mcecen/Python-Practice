{
 "cells": [
  {
   "cell_type": "code",
   "id": "initial_id",
   "metadata": {
    "collapsed": true
   },
   "source": "# --> PYTHON DERS NOTLARI <--",
   "outputs": [],
   "execution_count": null
  },
  {
   "metadata": {},
   "cell_type": "code",
   "source": [
    "#TARİHÇE\n",
    "\"\"\"\n",
    "Python programlama dili Guido Van Rossum adlı Hollandalı bir programcı tarafından 90’lı yılların başında geliştirilmeye başlanmıştır. Guido Van Rossum bu programlama dilini, The Monty Python adlı bir İngiliz komedi grubunun, Monty Python’s Flying Circus adlı gösterisinden esinlenerek adlandırmıştır.\n",
    "\"\"\""
   ],
   "id": "222a66e7321909be",
   "outputs": [],
   "execution_count": null
  },
  {
   "metadata": {},
   "cell_type": "code",
   "source": [
    "#NEDEN PYTHON\n",
    "\"\"\"\n",
    "Python programlarının en büyük özelliklerinden birisi, derlenmeye gerek olmadan çalıştırılabilmeleridir. Python’da derleme işlemi ortadan kaldırıldığı için, bu dille oldukça hızlı bir şekilde program geliştirilebilir. Ayrıca Python programlama dilinin basit ve temiz söz dizimine sahiptir. Bundan dolayı Python’da hem program yazmak, hem de başkası tarafından yazılmış bir programı okumak, başka dillere kıyasla çok kolaydır.\n",
    "\"\"\""
   ],
   "id": "4f42855b6e81d0c8",
   "outputs": [],
   "execution_count": null
  },
  {
   "metadata": {},
   "cell_type": "code",
   "source": [
    "#ETKİLEŞİMLİ KABUK(INTERACTIVE SHELL)\n",
    "\"\"\"\n",
    "Etkileşimli kabuk, Python programlama dili ile ilişki kurmaya yarayan, yani onunla etkileşim sağlanan bir üst katmandır. Etkileşimli kabuk bir veya birkaç satırlık kodları denemek/test etmek için gayet uygun bir araçtır.\n",
    "\n",
    "Örnekler:\n",
    "\n",
    ">>> \"Merhaba Dünya!\"\n",
    "'Merhaba Dünya!'\n",
    "\n",
    ">>> \"Mustafa\" + \"ÇEÇEN\"\n",
    "'MustafaÇEÇEN'\n",
    "\n",
    ">>> \"w\" * 3\n",
    "'www'\n",
    "\n",
    ">>> 5 + 2\n",
    "7\n",
    "\n",
    ">>> 25 * 25\n",
    "625\n",
    "\n",
    "\"\"\""
   ],
   "id": "c386cc8f8ffd295",
   "outputs": [],
   "execution_count": null
  },
  {
   "metadata": {},
   "cell_type": "code",
   "source": [
    "#DEĞİŞKENLER(VARIABLES)\n",
    "\"\"\"\n",
    "\n",
    "\"\"\"\n"
   ],
   "id": "40054309ff387a12",
   "outputs": [],
   "execution_count": null
  }
 ],
 "metadata": {
  "kernelspec": {
   "display_name": "Python 3",
   "language": "python",
   "name": "python3"
  },
  "language_info": {
   "codemirror_mode": {
    "name": "ipython",
    "version": 2
   },
   "file_extension": ".py",
   "mimetype": "text/x-python",
   "name": "python",
   "nbconvert_exporter": "python",
   "pygments_lexer": "ipython2",
   "version": "2.7.6"
  }
 },
 "nbformat": 4,
 "nbformat_minor": 5
}
