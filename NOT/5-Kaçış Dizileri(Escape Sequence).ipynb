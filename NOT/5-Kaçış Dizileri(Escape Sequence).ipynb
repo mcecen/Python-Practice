{
 "cells": [
  {
   "cell_type": "code",
   "execution_count": null,
   "id": "initial_id",
   "metadata": {
    "collapsed": true
   },
   "outputs": [],
   "source": [
    "#KAÇIŞ DİZİLERİ(ESCAPE SEQUENCE) --> En Çok Kullanılanlar\n",
    "\"\"\"\n",
    "--Ters Taksim (\\)--\n",
    "\\ adlı kaçış dizisi kendisini tırnak işaretlerine siper ederek Python’ın bu tırnağı görmesine mani olur. Buradaki karakter, soldan sağa satır okunduğunda önünde bulunan tırnağın bitiş tırnağı olmadığını belirtir. BU sayede hata almadan satır okunmaya devam eder.\n",
    "\"\"\"\n",
    "\n",
    "print('Tokat\\'ın günlük hava durumu tahmini')\n",
    "\n",
    "\"\"\"\n",
    "--Satır Başı (\\n)--\n",
    "\\n kaçış dizisi, bir alt satıra geçilmesini sağlar.\n",
    "\"\"\"\n",
    "\n",
    "print(\"birinci satır\\nikinci satır\\nüçüncü satır\")\n",
    "\n",
    "\"\"\"\n",
    "--Sekme (\\t)--\n",
    "\\t kaçış dizisi, Tab (sekme) tuşuna basılmış gibi bir etki oluşturur.\n",
    "\"\"\"\n",
    "\n",
    "print(\"bir\", \"iki\", \"üç\", sep=\"\\t\")\n",
    "\n",
    "\"\"\"\n",
    "--Etkisizleştirme(r)\n",
    "\"\"\"\n",
    "print(r\"\\nesne\\tabak\\ali\") #kaçış dizilerini etkişizleştirdi."
   ]
  }
 ],
 "metadata": {
  "kernelspec": {
   "display_name": "Python 3",
   "language": "python",
   "name": "python3"
  },
  "language_info": {
   "codemirror_mode": {
    "name": "ipython",
    "version": 2
   },
   "file_extension": ".py",
   "mimetype": "text/x-python",
   "name": "python",
   "nbconvert_exporter": "python",
   "pygments_lexer": "ipython2",
   "version": "2.7.6"
  }
 },
 "nbformat": 4,
 "nbformat_minor": 5
}
