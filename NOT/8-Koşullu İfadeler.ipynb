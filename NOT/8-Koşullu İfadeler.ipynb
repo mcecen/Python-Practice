{
 "cells": [
  {
   "metadata": {},
   "cell_type": "code",
   "outputs": [],
   "execution_count": null,
   "source": "#KOŞULLU İFADELER",
   "id": "7b48171fa6438bdc"
  },
  {
   "metadata": {},
   "cell_type": "code",
   "outputs": [],
   "execution_count": null,
   "source": [
    "\"\"\"\n",
    "-->Koşullu ifadeler veriler ve durumlar arasında karşılaştırma yaparak istenen sonucu veya mesajı döner. Koşullu durumlar için kullanılan anahtar kelimeler:\n",
    "\n",
    "if\n",
    "elif\n",
    "else --> sadece kendinden bir önceki if bloğunu dikkate alır.\n",
    "\n",
    "-->Karşılaştırma için kullanılan işleçler:\n",
    "\n",
    "> büyüktür\n",
    "< küçüktür\n",
    ">= büyük eşittir\n",
    "<= küçük eşittir\n",
    "== eşittir\n",
    "!= eşit değildir\n",
    "\n",
    "\"\"\""
   ],
   "id": "743f33adacb0c130"
  },
  {
   "metadata": {},
   "cell_type": "code",
   "outputs": [],
   "execution_count": null,
   "source": [
    "x=15\n",
    "if x>5:\n",
    "    print(\"x 5'ten büyüktür\")"
   ],
   "id": "fddf60a2c5270337"
  },
  {
   "metadata": {},
   "cell_type": "code",
   "outputs": [],
   "execution_count": null,
   "source": [
    "boy = int(input(\"boyunuz nedir(cm)?\"))\n",
    "if boy < 170:\n",
    "    print(\"boyunuz kısa\")\n",
    "elif boy < 180:\n",
    "    print(\"boyunuz normal\")\n",
    "else:\n",
    "    print(\"boyunuz uzun\")"
   ],
   "id": "bce4872d41951231"
  },
  {
   "metadata": {},
   "cell_type": "code",
   "outputs": [],
   "execution_count": null,
   "source": [
    "\"\"\"\n",
    "Eğer durumlar alt alta sadece if ile yazılırsa doğru olan bütün sonuçlar listelenir.\n",
    "\"\"\""
   ],
   "id": "8baf5aada1fbd9bb"
  }
 ],
 "metadata": {
  "kernelspec": {
   "display_name": "Python 3",
   "language": "python",
   "name": "python3"
  },
  "language_info": {
   "codemirror_mode": {
    "name": "ipython",
    "version": 2
   },
   "file_extension": ".py",
   "mimetype": "text/x-python",
   "name": "python",
   "nbconvert_exporter": "python",
   "pygments_lexer": "ipython2",
   "version": "2.7.6"
  }
 },
 "nbformat": 4,
 "nbformat_minor": 5
}
