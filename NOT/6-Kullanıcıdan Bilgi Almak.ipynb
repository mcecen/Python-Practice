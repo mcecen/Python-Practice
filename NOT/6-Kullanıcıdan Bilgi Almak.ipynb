{
 "cells": [
  {
   "cell_type": "code",
   "execution_count": null,
   "id": "initial_id",
   "metadata": {
    "collapsed": true
   },
   "outputs": [],
   "source": [
    "#KULLANICIDAN BİLGİ ALMAK --> input()\n",
    "\"\"\"\n",
    "input() fonksiyonu kullanıcıda bilgi almak için kullanılır. Fonksiyon kullanıcıdan bilgileri string türünde alır. Bundan dolayı matematiksel işlemler gibi durumlarda\n",
    "tip dönüşümü yapılması gerekir.\n",
    "\n",
    "\"\"\"\n",
    "isim = input(\"İsim? \")\n",
    "print(\"Merhaba, isminiz: \", isim)\n",
    "\n",
    "yas = input(\"Yaşınız: \")\n",
    "print(\"Yaşınız: \", yas)"
   ]
  }
 ],
 "metadata": {
  "kernelspec": {
   "display_name": "Python 3",
   "language": "python",
   "name": "python3"
  },
  "language_info": {
   "codemirror_mode": {
    "name": "ipython",
    "version": 2
   },
   "file_extension": ".py",
   "mimetype": "text/x-python",
   "name": "python",
   "nbconvert_exporter": "python",
   "pygments_lexer": "ipython2",
   "version": "2.7.6"
  }
 },
 "nbformat": 4,
 "nbformat_minor": 5
}
