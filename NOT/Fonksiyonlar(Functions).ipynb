{
 "cells": [
  {
   "cell_type": "code",
   "id": "initial_id",
   "metadata": {
    "collapsed": true
   },
   "source": "#FONKSİYONLAR(FUNCTIONS)",
   "outputs": [],
   "execution_count": null
  },
  {
   "metadata": {},
   "cell_type": "code",
   "source": [
    "\"\"\"\n",
    "Fonksiyonların görevi, karmaşık işlemleri bir araya toplayarak, bu işlemleri tek adımda yapmamızı sağlamaktır. Fonksiyonlar çoğu zaman, yapmak istediğimiz işlemler için bir şablon vazifesi görür. Fonksiyonları kullanarak, bir veya birkaç adımdan oluşan işlemleri tek bir isim altında toplayabiliriz. Python’daki ‘fonksiyon’ kavramı başka programlama dillerinde ‘rutin’ veya\n",
    "‘prosedür’ olarak adlandırılır. Gerçekten de fonksiyonlar rutin olarak tekrar edilen görevleri veya prosedürleri tek bir ad/çatı altında toplayan araçlardır.\n",
    "\"\"\""
   ],
   "id": "194e016dd16eedd9",
   "outputs": [],
   "execution_count": null
  },
  {
   "metadata": {},
   "cell_type": "code",
   "source": [
    "def kayıt(isim, soyisim, şehir):\n",
    "    print(\"isim : \", isim)\n",
    "    print(\"soyisim : \", soyisim)\n",
    "    print(\"şehir : \", şehir)\n",
    "\n",
    "kayıt(\"Mustafa\", \"ÇEÇEN\", \"Tokat\")\n",
    "#Python’da isimli bir parametrenin ardından sıralı bir parametre gelemez.\n",
    "#kayıt(soyisim=\"ÇEÇEN\", isim=\"Mustafa\", \"Tokat\")"
   ],
   "id": "319c4581bb9e3354",
   "outputs": [],
   "execution_count": null
  },
  {
   "metadata": {},
   "cell_type": "code",
   "source": [
    "def hello_name(name=\"Mustafa\"):\n",
    "    print(\"Merhaba\")\n",
    "    print(name)"
   ],
   "id": "a9c8dfc9808d78da",
   "outputs": [],
   "execution_count": null
  },
  {
   "metadata": {},
   "cell_type": "code",
   "source": [
    "def kare_bul(sayı):\n",
    "    çıktı = \"{} sayısının karesi {} , karekökü ise {} sayısıdır\"\n",
    "    print(çıktı.format(sayı, sayı**2, sayı**0.5))"
   ],
   "id": "95999eef33f9cfe0",
   "outputs": [],
   "execution_count": null
  },
  {
   "metadata": {},
   "cell_type": "code",
   "source": [
    "def fonksiyon(**parametreler):\n",
    "    print(parametreler)\n",
    "fonksiyon(isim=\"Mustafa\", soyisim=\"ÇEÇEN\", meslek=\"Mühendis\", şehir=\"Ankara\")\n",
    "#{'isim': 'Mustafa', 'soyisim': 'ÇEÇEN', 'meslek': 'Mühendis', 'şehir': 'Ankara'}"
   ],
   "id": "1d20151a3e805f56",
   "outputs": [],
   "execution_count": null
  },
  {
   "metadata": {},
   "cell_type": "code",
   "source": [
    "def args_sum(*args):\n",
    "    print(args)\n",
    "args_sum(10, 20, 30, 40, 50)"
   ],
   "id": "ed313ba15afe6983",
   "outputs": [],
   "execution_count": null
  },
  {
   "metadata": {},
   "cell_type": "code",
   "source": [
    "def kwargs_example(**kwargs):\n",
    "    print(kwargs)\n",
    "kwargs_example(apple=100,banana=150,melon=200)"
   ],
   "id": "1ddb8fcec2294fa6",
   "outputs": [],
   "execution_count": null
  },
  {
   "metadata": {},
   "cell_type": "code",
   "source": [
    "def args_sum(*args):\n",
    "    return sum(args)"
   ],
   "id": "24dd0841e6a74a41",
   "outputs": [],
   "execution_count": null
  },
  {
   "metadata": {
    "ExecuteTime": {
     "end_time": "2025-08-15T16:47:45.201667Z",
     "start_time": "2025-08-15T16:47:45.196251Z"
    }
   },
   "cell_type": "code",
   "source": [
    "#map() fonksiyonu, bir fonksiyonu bir iterable (liste, demet, küme vb.) üzerindeki her bir öğeye uygular ve sonuçları yeni bir iterable olarak döner.\n",
    "\n",
    "myList=[10, 20, 30, 40, 50]\n",
    "def divideNumber(number):\n",
    "    return number/2\n",
    "list(map(divideNumber,myList))"
   ],
   "id": "a0a0f3452587d6d",
   "outputs": [
    {
     "data": {
      "text/plain": [
       "[5.0, 10.0, 15.0, 20.0, 25.0]"
      ]
     },
     "execution_count": 11,
     "metadata": {},
     "output_type": "execute_result"
    }
   ],
   "execution_count": 11
  },
  {
   "metadata": {},
   "cell_type": "code",
   "source": [
    "#filter() fonksiyonu, bir fonksiyonu bir iterable üzerindeki her bir öğeye uygular ve bu fonksiyonun True döndüğü öğeleri yeni bir iterable olarak döner.\n",
    "#filter() fonksiyonu, genellikle bir koşula uyan öğeleri filtrelemek için kullanılır.\n",
    "\n",
    "myStringList=[\"Mustafa\", \"ÇEÇEN\", \"Python\", \"Fonksiyon\"]\n",
    "\n",
    "def ornekStr(string):\n",
    "    return \"Mustafa\" in string\n",
    "\n",
    "list(filter(ornekStr,myStringList))"
   ],
   "id": "e9cb625f7dc5bf8e",
   "outputs": [],
   "execution_count": null
  },
  {
   "metadata": {},
   "cell_type": "code",
   "outputs": [],
   "execution_count": null,
   "source": [
    "\"\"\"lambda fonksiyonları, Python’da tek satırlık anonim fonksiyonlar oluşturmak için kullanılır. Lambda fonksiyonları, genellikle kısa ve basit işlemler için kullanılır ve adlandırılmamış fonksiyonlar olarak tanımlanır. Lambda fonksiyonları, genellikle map(), filter() ve reduce() gibi fonksiyonlarla birlikte kullanılır.\n",
    "\"\"\"\n",
    "\n",
    "multiplyLambda = lambda num : num *3\n",
    "result = multiplyLambda(50)\n",
    "\n",
    "numList = [10, 20, 30, 40, 50]\n",
    "list(map(lambda num:num/4, numList))"
   ],
   "id": "bd96f3ceff7602e6"
  },
  {
   "metadata": {},
   "cell_type": "code",
   "outputs": [],
   "execution_count": null,
   "source": [
    "#SCOPE(KAPSAM)\n",
    "\"\"\"\n",
    "Scope, bir değişkenin veya fonksiyonun erişilebilir olduğu alanı ifade eder. Python’da scope, değişkenlerin ve fonksiyonların nerede tanımlandığına ve nerede erişilebileceğine bağlı olarak belirlenir. Python’da scope, genellikle dört ana kategoriye ayrılır:\n",
    "\n",
    "#1. Local Scope (Yerel Kapsam): Fonksiyon içinde tanımlanan değişkenler, sadece o fonksiyon içinde erişilebilir. Bu değişkenler, fonksiyonun dışında kullanılamaz.\n",
    "#2. Enclosing Scope (Çevrevelen Kapsam): Bir fonksiyon içinde tanımlanan ve başka bir fonksiyon tarafından erişilebilen değişkenlerdir. Bu, iç içe fonksiyonlarda geçerlidir.\n",
    "#3. Global Scope (Küresel Kapsam): Modül seviyesinde tanımlanan değişkenlerdir. Bu değişkenler, modülün herhangi bir yerinden erişilebilir.\n",
    "#4. Built-in Scope (Yerleşik Kapsam): Python’ın yerleşik fonksiyonları ve değişkenleridir. Bu değişkenler, her zaman erişilebilir ve Python’ın temel işlevselliğini sağlar.\n",
    "\"\"\""
   ],
   "id": "ba0c03fde874b3b2"
  },
  {
   "metadata": {},
   "cell_type": "code",
   "outputs": [],
   "execution_count": null,
   "source": [
    "#Global Scope\n",
    "myString = \"Mustafa\"\n",
    "\n",
    "def myFunction():\n",
    "    #Enclosing Scope\n",
    "    myString = \"Mustafa-2\"\n",
    "    print(myString)\n",
    "\n",
    "    def myFunction2():\n",
    "        #Local Scope\n",
    "        myString = \"Mustafa-3\"\n",
    "        print(myString)\n",
    "    myFunction2()"
   ],
   "id": "716d1c8e9a25bc9"
  },
  {
   "metadata": {},
   "cell_type": "code",
   "outputs": [],
   "execution_count": null,
   "source": [
    "y = 10\n",
    "def changeY():\n",
    "    global y\n",
    "    y = 5\n",
    "    print(y)\n",
    "changeY()"
   ],
   "id": "6d44e3ffd799a329"
  }
 ],
 "metadata": {
  "kernelspec": {
   "display_name": "Python 3",
   "language": "python",
   "name": "python3"
  },
  "language_info": {
   "codemirror_mode": {
    "name": "ipython",
    "version": 2
   },
   "file_extension": ".py",
   "mimetype": "text/x-python",
   "name": "python",
   "nbconvert_exporter": "python",
   "pygments_lexer": "ipython2",
   "version": "2.7.6"
  }
 },
 "nbformat": 4,
 "nbformat_minor": 5
}
