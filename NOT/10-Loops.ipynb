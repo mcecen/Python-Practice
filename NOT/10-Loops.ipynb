{
 "cells": [
  {
   "cell_type": "code",
   "id": "initial_id",
   "metadata": {
    "collapsed": true
   },
   "source": "#LOOPS(DÖNGÜLER)",
   "outputs": [],
   "execution_count": null
  },
  {
   "metadata": {},
   "cell_type": "code",
   "source": [
    "\"\"\"\n",
    "Python'da döngüler, belirli bir işlemi birden fazla kez yapmak, yazılan programları tekrar tekar çalıştırabilmek için kullanılır. En çok kullanılan iki döngü türü for döngüsü ve while döngüsüdür.\n",
    "\"\"\""
   ],
   "id": "17653e90ca382093",
   "outputs": [],
   "execution_count": null
  },
  {
   "metadata": {
    "jupyter": {
     "is_executing": true
    }
   },
   "cell_type": "code",
   "source": [
    "\"\"\"\n",
    "--> While Döngüsü\n",
    "Şart doğru olduğu sürece çalışır. Şart yanlış olunca döngü sona erer.\n",
    "\"\"\""
   ],
   "id": "a2fdd98a8db7a453",
   "outputs": [],
   "execution_count": null
  },
  {
   "metadata": {
    "jupyter": {
     "is_executing": true
    }
   },
   "cell_type": "code",
   "source": [
    "sayi = 1\n",
    "while sayi < 10:\n",
    "    sayi += 1\n",
    "    print(sayi)"
   ],
   "id": "c27080ac7cfc53f6",
   "outputs": [],
   "execution_count": null
  },
  {
   "metadata": {},
   "cell_type": "code",
   "source": [
    "x = 0\n",
    "while x < 100:\n",
    "    x += 1\n",
    "    if x % 2 == 0:\n",
    "        print(x)"
   ],
   "id": "f2a9d8e0227a01b1",
   "outputs": [],
   "execution_count": null
  },
  {
   "metadata": {},
   "cell_type": "code",
   "source": [
    "\"\"\"\n",
    "--> For Döngüsü\n",
    "Bir koleksiyon (liste, string, sözlük, vs.) veya belirli bir aralık üzerinde sırayla işlem yapar\n",
    "\"\"\""
   ],
   "id": "3457261606c9a3d8",
   "outputs": [],
   "execution_count": null
  },
  {
   "metadata": {},
   "cell_type": "code",
   "source": [
    "meyveler = [\"elma\", \"armut\", \"muz\"]\n",
    "\n",
    "for meyve in meyveler:\n",
    "    print(meyve)"
   ],
   "id": "c59ad998775535cc",
   "outputs": [],
   "execution_count": null
  },
  {
   "metadata": {},
   "cell_type": "code",
   "source": [
    "kelime = \"mustafa\"\n",
    "\n",
    "for harf in kelime:\n",
    "    print(harf)"
   ],
   "id": "ece66013f08b2d50",
   "outputs": [],
   "execution_count": null
  },
  {
   "metadata": {
    "jupyter": {
     "is_executing": true
    }
   },
   "cell_type": "code",
   "source": [
    "for i in range(0, 10):  #for i in range(10):\n",
    "    print(i)"
   ],
   "id": "453ae9af4486c6d2",
   "outputs": [],
   "execution_count": null
  },
  {
   "metadata": {},
   "cell_type": "code",
   "source": [
    "for i in range(3, 20):\n",
    "    print(i)"
   ],
   "id": "73e4cd8bf255043",
   "outputs": [],
   "execution_count": null
  },
  {
   "metadata": {},
   "cell_type": "code",
   "source": [
    "for i in range(0, 10, 2):\n",
    "    print(i)"
   ],
   "id": "2917d443642c01e5",
   "outputs": [],
   "execution_count": null
  },
  {
   "metadata": {},
   "cell_type": "code",
   "source": [
    "for i in range(10, 0, -1):\n",
    "    print(i)"
   ],
   "id": "b2d9d1fe746de99d",
   "outputs": [],
   "execution_count": null
  },
  {
   "metadata": {},
   "cell_type": "code",
   "source": "print(*range(10), sep=\", \")",
   "id": "8dc3eb1846712cae",
   "outputs": [],
   "execution_count": null
  },
  {
   "metadata": {},
   "cell_type": "code",
   "source": [
    "\"\"\"\n",
    "pass --> görmezden gel ve yoluna devam et\n",
    "break --> döngüyü ya da süreci kır\n",
    "continue --> satırı es geç ve en başa dön\n",
    "\"\"\""
   ],
   "id": "794f4cb1440cb28d",
   "outputs": [],
   "execution_count": null
  }
 ],
 "metadata": {
  "kernelspec": {
   "display_name": "Python 3",
   "language": "python",
   "name": "python3"
  },
  "language_info": {
   "codemirror_mode": {
    "name": "ipython",
    "version": 2
   },
   "file_extension": ".py",
   "mimetype": "text/x-python",
   "name": "python",
   "nbconvert_exporter": "python",
   "pygments_lexer": "ipython2",
   "version": "2.7.6"
  }
 },
 "nbformat": 4,
 "nbformat_minor": 5
}
