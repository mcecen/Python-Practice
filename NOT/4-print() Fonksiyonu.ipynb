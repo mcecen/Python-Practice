{
 "cells": [
  {
   "metadata": {
    "collapsed": true
   },
   "cell_type": "code",
   "source": [
    "#PRINT() FONKSİYONU\n",
    "\"\"\"\n",
    "print() fonksiyonunun görevi verilen parametreyi ekrana çıktı olarak vermektir.\n",
    "\"\"\"\n",
    "print(\"Python programlama dili\")\n",
    "print('Mustafa', 'ÇEÇEN')\n",
    "\"\"\"\n",
    "print() Fonksiyonunun Parametreleri\n",
    "\n",
    "--SEP--\n",
    "sep ifadesi, İngilizcede separator (ayırıcı, ayraç) kelimesinin kısaltmasıdır. Dolayısıyla print() fonksiyonundaki bu sep parametresi, ekrana basılacak öğeler arasına hangi karakterin yerleştirileceğini gösterir. Bu parametrenin öntanımlı değeri bir adet boşluk karakteridir(” “). Yalnızca karakter dizilerini ve None parametresini alır.\n",
    "\n",
    ">>> print(\"http://\", \"www.\", \"google.\", \"com\", sep=\" \")\n",
    "\n",
    "--END--\n",
    "print() fonksiyonuna verilen parametreleri birleştirirken bu parametrelerin sonuna neyin geleceğini belirler. Öntanımlı olarak, parametrelerin sonuna ‘satır başı karakteri’ ekler. Yalnızca karakter dizilerini ve None parametresini alır.\n",
    "\n",
    ">>> print(\"Bugün günlerden Mustafa\", end=\"\\n\")\n",
    "\n",
    "--FİLE--\n",
    "file'ın görevi, print() fonksiyonuna verilen karakter dizisi ve/veya sayıların, yani parametrelerin nereye yazılacağını belirtmektir. Bu parametrenin öntanımlı değeri sys.stdout’tur. sys.stdout,‘standart çıktı konumu’ anlamına gelir.\n",
    "\n",
    ">>> dosya = open(\"deneme.txt\", \"w\")\n",
    ">>> print(\"Ben Python!\", file=dosya)\n",
    ">>> dosya.close()\n",
    "\n",
    "--FLUSH--\n",
    "Python, yazdırmak istenen bilgiyi standart çıktı konumuna gönderir. Ancak Python’da bazı işlemler standart çıktı konumuna gönderilmeden önce bir süre tamponda bekletir ve daha sonra bekleyen bu işlemler topluca standart çıktı konumuna gönderilir. Flush bu boşaltma mekanizmasını kontrol eder. True veya False parametrelerini alabilir. Bu parametrenin öntanımlı değeri False’tur.\n",
    "\n",
    ">>> print(\"Merhaba Dünya!\", file=f, flush=True)\n",
    "\"\"\"\n",
    "\"\"\"\n",
    "format() metodu verilen parametreleri {} parantezleri arasına sırası ile yerleştirir.\n",
    "\"\"\"\n",
    "ad = \"Mustafa\"\n",
    "soyad = \"CECEN\"\n",
    "print(\"Adınız: {}, Soyadınız: {}\".format(ad, soyad))"
   ],
   "id": "initial_id",
   "outputs": [],
   "execution_count": null
  },
  {
   "metadata": {},
   "cell_type": "code",
   "source": [
    "print(\"\"\"\n",
    "Mustafa\n",
    "Çeçen\n",
    "\"\"\")"
   ],
   "id": "8ebded67425bfa08",
   "outputs": [],
   "execution_count": null
  },
  {
   "metadata": {},
   "cell_type": "code",
   "source": "print(*\"Mustafa\",sep=\".\") #bu yöntem sayılarda kullanılamaz.",
   "id": "f2eca2d80f94613d",
   "outputs": [],
   "execution_count": null
  }
 ],
 "metadata": {
  "kernelspec": {
   "display_name": "Python 3",
   "language": "python",
   "name": "python3"
  },
  "language_info": {
   "codemirror_mode": {
    "name": "ipython",
    "version": 2
   },
   "file_extension": ".py",
   "mimetype": "text/x-python",
   "name": "python",
   "nbconvert_exporter": "python",
   "pygments_lexer": "ipython2",
   "version": "2.7.6"
  }
 },
 "nbformat": 4,
 "nbformat_minor": 5
}
