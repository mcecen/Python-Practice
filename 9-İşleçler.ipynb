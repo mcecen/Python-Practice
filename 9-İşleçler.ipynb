{
 "cells": [
  {
   "cell_type": "code",
   "id": "initial_id",
   "metadata": {
    "collapsed": true
   },
   "source": "#1 - ARİTMETİK İŞLEÇLER",
   "outputs": [],
   "execution_count": null
  },
  {
   "metadata": {},
   "cell_type": "code",
   "source": [
    "\"\"\"\n",
    "Aritmetik işleçler; matematikte kullanılan ve sayılarla aritmetik işlemler yapılmasını sağlayan yardımcı araçlardır. Bunlar;\n",
    "\n",
    "+ toplama\n",
    "- çıkarma\n",
    "* çarpma\n",
    "/ bölme\n",
    "** kuvvet\n",
    "% modülüs\n",
    "// taban bölme\n",
    "\n",
    "\"\"\""
   ],
   "id": "40cc0be36449fdf7",
   "outputs": [],
   "execution_count": null
  },
  {
   "metadata": {},
   "cell_type": "code",
   "source": [
    "45 + 33\n",
    "\n",
    "23 * 46\n",
    "\n",
    "25 / 4\n",
    "\n",
    "10 - 5\n",
    "\n",
    "30 % 4\n",
    "\n",
    "5 // 2\n",
    "\n",
    "25 ** 2\n",
    "\n",
    "625 ** 0.5"
   ],
   "id": "fbb2fb0ef91e61e3",
   "outputs": [],
   "execution_count": null
  },
  {
   "metadata": {},
   "cell_type": "code",
   "source": [
    "\"\"\"\n",
    "round() fonksiyonu bir sayının değerini yuvarlamayı sağlar.\n",
    "\"\"\"\n",
    "round(2.55) #3\n",
    "\n",
    "round(2.55, 1) # Burada ikinci parametre olarak verilen değer, noktadan sonraki görüntülenecek basamak sayısını belirler.\n",
    "\n",
    "round(2.68, 1) #2.7\n",
    "\n",
    "round(2.68, 2) #2.68"
   ],
   "id": "95ae2247773a1008",
   "outputs": [],
   "execution_count": null
  },
  {
   "metadata": {},
   "cell_type": "code",
   "source": [
    "\"\"\"\n",
    "pow fonksiyonu kuvvet almaya yarar.\n",
    "\"\"\"\n",
    "pow(25, 2) #625\n",
    "\n",
    "\n",
    "pow(25, 2, 5) # --> (25 ** 2) % 5 --> 0"
   ],
   "id": "5a0e91a68a50c6c2",
   "outputs": [],
   "execution_count": null
  },
  {
   "metadata": {},
   "cell_type": "code",
   "source": "#2 - KARŞILAŞTIRMA İŞLEÇLERİ",
   "id": "8a8f389bf3b6a8ff",
   "outputs": [],
   "execution_count": null
  },
  {
   "metadata": {},
   "cell_type": "code",
   "source": [
    "\"\"\"\n",
    "Karşılaştırma işleçleri, işlenenler (operands) arasında bir karşılaştırma ilişkisi kuran işleçlerdir. Bunlar;\n",
    "\n",
    "== eşittir\n",
    "!= eşit değildir\n",
    "> büyüktür\n",
    "< küçüktür\n",
    ">= büyük eşittir\n",
    "<= küçük eşittir\n",
    "\n",
    "\"\"\""
   ],
   "id": "14c94de4bd719526",
   "outputs": [],
   "execution_count": null
  },
  {
   "metadata": {},
   "cell_type": "code",
   "source": [
    "parola = \"mustafa\"\n",
    "soru = input(\"parolanız: \")\n",
    "if soru == parola:\n",
    "    print(\"doğru parola!\")\n",
    "elif soru != parola:\n",
    "    print(\"yanlış parola!\")\n",
    "\n",
    "sayı = input(\"sayı: \")\n",
    "if int(sayı) <= 100:\n",
    "    print(\"sayı 100 veya 100'den küçük\")\n",
    "elif int(sayı) >= 100:\n",
    "    print(\"sayı 100 veya 100'den büyük\")"
   ],
   "id": "c142c75d4a8fe399",
   "outputs": [],
   "execution_count": null
  },
  {
   "metadata": {},
   "cell_type": "code",
   "outputs": [],
   "execution_count": null,
   "source": "#3 - BOOL İŞLEÇLERİ",
   "id": "328193c8063cf91b"
  },
  {
   "metadata": {},
   "cell_type": "code",
   "outputs": [],
   "execution_count": null,
   "source": [
    "\"\"\"\n",
    "Bilgisayarlar iki adet değer üzerine kuruludur: 1 ve 0. Yani sırasıyla True ve False. Bu True ve False olarak ifade edilen değerlere bool değerleri adı verilir. 0 değeri ve boş veri tipleri False’tur.\n",
    "Bunlar dışında kalan her şey ise True’dur. Bool işleçleri;\n",
    "\n",
    "and --> ve\n",
    "or --> veya\n",
    "not --> değil\n",
    "\n",
    "\"\"\""
   ],
   "id": "f0efaa45ceb531f9"
  },
  {
   "metadata": {},
   "cell_type": "code",
   "outputs": [],
   "execution_count": null,
   "source": [
    "x = 1\n",
    "\n",
    "x == 1 #x değeri 1'e eşit mi? True\n",
    "\n",
    "x == 2 #False"
   ],
   "id": "52d8311bb5529308"
  },
  {
   "metadata": {},
   "cell_type": "code",
   "outputs": [],
   "execution_count": null,
   "source": [
    "bool(3) #True\n",
    "\n",
    "bool(\"elma\") #True\n",
    "\n",
    "bool(\" \")\n",
    "\n",
    "bool(\" \") #True\n",
    "\n",
    "bool(\"fdsdfsdg\") #True\n",
    "\n",
    "bool(\"0\") #True\n",
    "\n",
    "bool(0) #False\n",
    "\n",
    "bool(\"\") #False"
   ],
   "id": "c88e21ce6bfea42f"
  },
  {
   "metadata": {},
   "cell_type": "code",
   "outputs": [],
   "execution_count": null,
   "source": [
    "username = input(\"Kullanıcı adınız: \")\n",
    "password = input(\"Parolanız: \")\n",
    "if username == \"mustafa\" and password == \"12345678\":\n",
    "    print(\"Hoşgeldiniz\")\n",
    "else:\n",
    "    print(\"Yanlış kullanıcı adı veya parola!\")"
   ],
   "id": "78aadc29da17e785"
  },
  {
   "metadata": {},
   "cell_type": "code",
   "outputs": [],
   "execution_count": null,
   "source": [
    "a = 50\n",
    "b = 10\n",
    "\n",
    "a == 13 or b == 10 #True"
   ],
   "id": "3344b35a3a93ab2c"
  },
  {
   "metadata": {},
   "cell_type": "code",
   "outputs": [],
   "execution_count": null,
   "source": [
    "passwd = input(\"parola: \")\n",
    "if not passwd:\n",
    "    print(\"Parola boş olamaz!\")"
   ],
   "id": "5031d2b7ec79aeee"
  },
  {
   "metadata": {},
   "cell_type": "code",
   "outputs": [],
   "execution_count": null,
   "source": "#4 - DEĞER ATAMA İŞLEÇLERİ",
   "id": "9e2b945baa177833"
  },
  {
   "metadata": {},
   "cell_type": "code",
   "outputs": [],
   "execution_count": null,
   "source": [
    "\"\"\"\n",
    "Atama yapılan değerler üzerinde değişiklik yapmayı sağlayan işleçlerdir. Bunlar;\n",
    "\n",
    "+=\n",
    "-=\n",
    "/=\n",
    "*=\n",
    "%=\n",
    "**=\n",
    "//=\n",
    ":=\n",
    "\n",
    "\"\"\""
   ],
   "id": "d23a1019817d366"
  },
  {
   "metadata": {},
   "cell_type": "code",
   "outputs": [],
   "execution_count": null,
   "source": [
    "s = 25\n",
    "s += 5\n",
    "print(s) #30\n",
    "#-----------------\n",
    "a = 18\n",
    "a -= 5\n",
    "print(a) #13\n",
    "#-----------------\n",
    "a = 25\n",
    "a /= 5\n",
    "print(a) #5\n",
    "#-----------------\n",
    "b = 10\n",
    "b *= 2\n",
    "print(a) #20\n",
    "#-----------------\n",
    "a = 40\n",
    "a %= 3\n",
    "print(a) #1\n",
    "#-----------------\n",
    "a = 12\n",
    "a **= 2\n",
    "print(a) #144\n",
    "144\n",
    "#-----------------\n",
    "a = 5\n",
    "a //= 2\n",
    "print(a) #2\n",
    "#-----------------\n",
    "if ( isim := len(input(\"Adın ne? \")) ) < 4:\n",
    "    print(\"Adın kısaymış.\")\n",
    "elif isim < 6:\n",
    "    print(\"Adın biraz uzunmuş.\")\n",
    "else:\n",
    "    print(\"Çok uzun bir adın var.\")\n",
    "\n",
    "if isim := len(input(\"Adın ne? \")) < 4:\n",
    "    print(isim)"
   ],
   "id": "f38e83fe2e93b502"
  }
 ],
 "metadata": {
  "kernelspec": {
   "display_name": "Python 3",
   "language": "python",
   "name": "python3"
  },
  "language_info": {
   "codemirror_mode": {
    "name": "ipython",
    "version": 2
   },
   "file_extension": ".py",
   "mimetype": "text/x-python",
   "name": "python",
   "nbconvert_exporter": "python",
   "pygments_lexer": "ipython2",
   "version": "2.7.6"
  }
 },
 "nbformat": 4,
 "nbformat_minor": 5
}
