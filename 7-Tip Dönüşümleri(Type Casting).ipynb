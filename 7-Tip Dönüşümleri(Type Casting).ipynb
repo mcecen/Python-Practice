{
 "cells": [
  {
   "cell_type": "code",
   "execution_count": null,
   "id": "initial_id",
   "metadata": {
    "collapsed": true
   },
   "outputs": [],
   "source": [
    "#TİP DÖNÜŞÜMLERİ(TYPE CASTING)\n",
    "\"\"\"\n",
    "int() --> Veriyi tamsayıya çevirir.\n",
    "str() --> Veriyi string'e çevirir.\n",
    "float() --> Veriyi noktalı sayıya çevirir.\n",
    "complex() --> Veriyi karmaşık sayıya çevirir.\n",
    "\"\"\"\n",
    "sayi = input(\"Lütfen bir sayı girin: \")\n",
    "int_donusum = int(sayi)\n",
    "print(\"Girilen sayının karesi: \", int_donusum ** 2)\n",
    "#Pratik kullanım örneği --> int(input())\n",
    "\n",
    "sayi2 = 10\n",
    "str_donusum = str(sayi2)\n",
    "print(str_donusum)\n",
    "\n",
    "a = 30\n",
    "float(a)\n",
    "print(a)\n",
    "\n",
    "b = 15\n",
    "complex(b)\n",
    "print(b)"
   ]
  }
 ],
 "metadata": {
  "kernelspec": {
   "display_name": "Python 3",
   "language": "python",
   "name": "python3"
  },
  "language_info": {
   "codemirror_mode": {
    "name": "ipython",
    "version": 2
   },
   "file_extension": ".py",
   "mimetype": "text/x-python",
   "name": "python",
   "nbconvert_exporter": "python",
   "pygments_lexer": "ipython2",
   "version": "2.7.6"
  }
 },
 "nbformat": 4,
 "nbformat_minor": 5
}
