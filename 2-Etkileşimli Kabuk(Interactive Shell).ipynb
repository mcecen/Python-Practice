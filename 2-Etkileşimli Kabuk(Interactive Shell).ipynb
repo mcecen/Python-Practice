{
 "cells": [
  {
   "cell_type": "code",
   "execution_count": null,
   "id": "initial_id",
   "metadata": {
    "collapsed": true
   },
   "outputs": [],
   "source": [
    "#ETKİLEŞİMLİ KABUK(INTERACTIVE SHELL)\n",
    "\"\"\"\n",
    "Etkileşimli kabuk, Python programlama dili ile ilişki kurmaya yarayan, yani onunla etkileşim sağlanan bir üst katmandır. Etkileşimli kabuk bir veya birkaç satırlık kodları denemek/test etmek için gayet uygun bir araçtır.\n",
    "\n",
    "Örnekler:\n",
    "\n",
    ">>> \"Merhaba Dünya!\"\n",
    "'Merhaba Dünya!'\n",
    "\n",
    ">>> \"Mustafa\" + \"ÇEÇEN\"\n",
    "'MustafaÇEÇEN'\n",
    "\n",
    ">>> \"w\" * 3\n",
    "'www'\n",
    "\n",
    ">>> 5 + 2\n",
    "7\n",
    "\n",
    ">>> 25 * 25\n",
    "625\n",
    "\n",
    "\"\"\""
   ]
  }
 ],
 "metadata": {
  "kernelspec": {
   "display_name": "Python 3",
   "language": "python",
   "name": "python3"
  },
  "language_info": {
   "codemirror_mode": {
    "name": "ipython",
    "version": 2
   },
   "file_extension": ".py",
   "mimetype": "text/x-python",
   "name": "python",
   "nbconvert_exporter": "python",
   "pygments_lexer": "ipython2",
   "version": "2.7.6"
  }
 },
 "nbformat": 4,
 "nbformat_minor": 5
}
