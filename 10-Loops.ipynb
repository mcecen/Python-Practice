{
 "cells": [
  {
   "cell_type": "code",
   "execution_count": null,
   "id": "initial_id",
   "metadata": {
    "collapsed": true
   },
   "outputs": [],
   "source": "#LOOPS(DÖNGÜLER)"
  },
  {
   "metadata": {},
   "cell_type": "code",
   "outputs": [],
   "execution_count": null,
   "source": [
    "\"\"\"\n",
    "Python'da döngüler, belirli bir işlemi birden fazla kez yapmak, yazılan programları tekrar tekar çalıştırabilmek için kullanılır. En çok kullanılan iki döngü türü for döngüsü ve while döngüsüdür.\n",
    "\"\"\""
   ],
   "id": "17653e90ca382093"
  },
  {
   "metadata": {
    "jupyter": {
     "is_executing": true
    }
   },
   "cell_type": "code",
   "source": [
    "\"\"\"\n",
    "--> While Döngüsü\n",
    "Şart doğru olduğu sürece çalışır. Şart yanlış olunca döngü sona erer.\n",
    "\"\"\""
   ],
   "id": "a2fdd98a8db7a453",
   "outputs": [],
   "execution_count": null
  },
  {
   "metadata": {
    "jupyter": {
     "is_executing": true
    }
   },
   "cell_type": "code",
   "source": [
    "sayi = 1\n",
    "while sayi < 10:\n",
    "    sayi += 1\n",
    "    print(sayi)"
   ],
   "id": "c27080ac7cfc53f6",
   "outputs": [],
   "execution_count": null
  }
 ],
 "metadata": {
  "kernelspec": {
   "display_name": "Python 3",
   "language": "python",
   "name": "python3"
  },
  "language_info": {
   "codemirror_mode": {
    "name": "ipython",
    "version": 2
   },
   "file_extension": ".py",
   "mimetype": "text/x-python",
   "name": "python",
   "nbconvert_exporter": "python",
   "pygments_lexer": "ipython2",
   "version": "2.7.6"
  }
 },
 "nbformat": 4,
 "nbformat_minor": 5
}
